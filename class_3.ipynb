{
  "nbformat": 4,
  "nbformat_minor": 0,
  "metadata": {
    "colab": {
      "provenance": [],
      "authorship_tag": "ABX9TyOEHfs3lETCcpPUy6/W3uH2",
      "include_colab_link": true
    },
    "kernelspec": {
      "name": "python3",
      "display_name": "Python 3"
    },
    "language_info": {
      "name": "python"
    }
  },
  "cells": [
    {
      "cell_type": "markdown",
      "metadata": {
        "id": "view-in-github",
        "colab_type": "text"
      },
      "source": [
        "<a href=\"https://colab.research.google.com/github/paudelrc/PUS2024/blob/main/class_3.ipynb\" target=\"_parent\"><img src=\"https://colab.research.google.com/assets/colab-badge.svg\" alt=\"Open In Colab\"/></a>"
      ]
    },
    {
      "cell_type": "markdown",
      "source": [
        "symmetry: skewness(n=3)\n",
        "cuspiness: kurtosis(n=4)\n",
        "spread: standard deviation/variance (n=2), quartiles range\n",
        "central tendency: mean(n=2), median, mode\n",
        "mn=inte from (-inf to inf) (x-c)^n f(X)dx\n"
      ],
      "metadata": {
        "id": "s9xxouI_o5SI"
      }
    },
    {
      "cell_type": "code",
      "execution_count": null,
      "metadata": {
        "id": "VXELlAYCUXP2"
      },
      "outputs": [],
      "source": [
        "import pandas as pd\n"
      ]
    },
    {
      "cell_type": "code",
      "source": [
        "pd.read_csv(\"data from github\")"
      ],
      "metadata": {
        "id": "NJqNLF2dxbmf"
      },
      "execution_count": null,
      "outputs": []
    },
    {
      "cell_type": "code",
      "source": [
        "df_crime"
      ],
      "metadata": {
        "id": "EVlwh8oAxh6Y"
      },
      "execution_count": null,
      "outputs": []
    },
    {
      "cell_type": "code",
      "source": [
        "df_crime.head()"
      ],
      "metadata": {
        "id": "8XLJGJ0Rx0n5"
      },
      "execution_count": null,
      "outputs": []
    },
    {
      "cell_type": "code",
      "source": [
        "df_crime.tail()"
      ],
      "metadata": {
        "id": "TupZOb9bx6Ek"
      },
      "execution_count": null,
      "outputs": []
    },
    {
      "cell_type": "code",
      "source": [
        "df_crime.loc(148567)\n",
        "# if we use loc we use index number"
      ],
      "metadata": {
        "id": "n_yokA8yx-dU"
      },
      "execution_count": null,
      "outputs": []
    },
    {
      "cell_type": "code",
      "source": [
        "df_crime.drop(148567)"
      ],
      "metadata": {
        "id": "qqAPO46eyJ_p"
      },
      "execution_count": null,
      "outputs": []
    },
    {
      "cell_type": "code",
      "source": [
        "df_crime.drop(148567,inplace=True)"
      ],
      "metadata": {
        "id": "GCIZlAfJy61j"
      },
      "execution_count": null,
      "outputs": []
    },
    {
      "cell_type": "code",
      "source": [
        "df_crime.tail()"
      ],
      "metadata": {
        "id": "qVQL93Ptyd6m"
      },
      "execution_count": null,
      "outputs": []
    },
    {
      "cell_type": "code",
      "source": [
        "df_crime_describe()"
      ],
      "metadata": {
        "id": "RfpFox6dy1So"
      },
      "execution_count": null,
      "outputs": []
    },
    {
      "cell_type": "code",
      "source": [
        "df_crime.groupby(\"ZCTA_GEDID\").sum()\n",
        "#grouping by zip data (ACTA_GEDID)"
      ],
      "metadata": {
        "id": "-avGQOsczNu-"
      },
      "execution_count": null,
      "outputs": []
    },
    {
      "cell_type": "code",
      "source": [
        "import pylab as plt\n",
        "df_crime.groupby(\"ZCTA_GEOID\").sum().drop(\"date_value\",axis=1).corr()"
      ],
      "metadata": {
        "id": "zfMHTWFM0ZBT"
      },
      "execution_count": null,
      "outputs": []
    }
  ]
}