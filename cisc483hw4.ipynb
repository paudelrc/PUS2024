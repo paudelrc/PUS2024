{
  "nbformat": 4,
  "nbformat_minor": 0,
  "metadata": {
    "colab": {
      "provenance": [],
      "mount_file_id": "1d391dFo7gEudTeNBChh61Nd7KMPXI0mI",
      "authorship_tag": "ABX9TyMbWNZ0sH/4ERnRCSZvzK/A",
      "include_colab_link": true
    },
    "kernelspec": {
      "name": "python3",
      "display_name": "Python 3"
    },
    "language_info": {
      "name": "python"
    }
  },
  "cells": [
    {
      "cell_type": "markdown",
      "metadata": {
        "id": "view-in-github",
        "colab_type": "text"
      },
      "source": [
        "<a href=\"https://colab.research.google.com/github/paudelrc/PUS2024/blob/main/cisc483hw4.ipynb\" target=\"_parent\"><img src=\"https://colab.research.google.com/assets/colab-badge.svg\" alt=\"Open In Colab\"/></a>"
      ]
    },
    {
      "cell_type": "code",
      "execution_count": 8,
      "metadata": {
        "id": "evGlSl5OAh-4",
        "colab": {
          "base_uri": "https://localhost:8080/"
        },
        "outputId": "fcfb127d-ea96-4c05-d978-3a7cc6fb14cd"
      },
      "outputs": [
        {
          "output_type": "stream",
          "name": "stdout",
          "text": [
            "Drive already mounted at /content/drive; to attempt to forcibly remount, call drive.mount(\"/content/drive\", force_remount=True).\n",
            "Top 5 nodes (PageRank score, id):\n",
            "[(263, np.float64(0.002020291181518219)), (537, np.float64(0.00194334157145315)), (965, np.float64(0.0019254478071662631)), (243, np.float64(0.0018526340162417312)), (285, np.float64(0.0018273721700645142))]\n",
            "\n",
            "Bottom 5 nodes (PageRank score, id):\n",
            "[(558, np.float64(0.0003286018525215297)), (93, np.float64(0.0003513568937516577)), (62, np.float64(0.0003531481051059628)), (424, np.float64(0.00035481538649301454)), (408, np.float64(0.00038779848719291705))]\n"
          ]
        }
      ],
      "source": [
        "import numpy as np\n",
        "\n",
        "from google.colab import drive\n",
        "drive.mount('/content/drive')\n",
        "\n",
        "filepath = \"/content/drive/MyDrive/Colab Notebooks/cisc-483/graph-full.txt\"\n",
        "\n",
        "class PageRankSolver:\n",
        "    def __init__(self, filepath, beta=0.8, iterations=40):\n",
        "        self.filepath = filepath\n",
        "        self.beta = beta\n",
        "        self.iterations = iterations\n",
        "        self.n = 1000\n",
        "        self.graph = {}\n",
        "        self.M = None\n",
        "\n",
        "    def read_graph(self):\n",
        "        \"\"\"\n",
        "        Reads the graph from the txt file and builds a dictionary of  sets.\n",
        "        \"\"\"\n",
        "        self.graph = {i: set() for i in range(1, self.n + 1)}\n",
        "\n",
        "        with open(self.filepath, 'r') as f:\n",
        "            for line in f:\n",
        "                src, dst = map(int, line.strip().split())\n",
        "                self.graph[src].add(dst)\n",
        "\n",
        "    def build_transition_matrix(self):\n",
        "        \"\"\"\n",
        "        Builds the  transition matrix M.\n",
        "        M[j][i] = 1 / out_deg(i) if i → j, else 0.\n",
        "        \"\"\"\n",
        "        M = np.zeros((self.n, self.n), dtype=np.float64)\n",
        "        for i in range(1, self.n + 1):\n",
        "            out_nodes = self.graph[i]\n",
        "            out_deg = len(out_nodes)\n",
        "            if out_deg > 0:\n",
        "                prob = 1.0 / out_deg\n",
        "                for j in out_nodes:\n",
        "                    M[j - 1][i - 1] = prob\n",
        "        self.M = M\n",
        "\n",
        "    def compute_pagerank(self):\n",
        "        \"\"\"\n",
        "        Computes the PageRank vector:\n",
        "        r_new = (1 - β)/n + β * M * r_old\n",
        "        \"\"\"\n",
        "        r = np.ones(self.n) / self.n\n",
        "        for _ in range(self.iterations):\n",
        "            r = ((1 - self.beta) / self.n) + self.beta * self.M @ r\n",
        "        return r\n",
        "\n",
        "    def eval(self):\n",
        "        \"\"\"\n",
        "        The evaluation function called by Gradescope.\n",
        "        It reads the graph, builds M, computes PageRank, and prints the top and bottom 5 nodes.\n",
        "        \"\"\"\n",
        "        self.read_graph()\n",
        "        self.build_transition_matrix()\n",
        "        pagerank_scores = self.compute_pagerank()\n",
        "\n",
        "        # Get top 5 nodes\n",
        "        top_5 = sorted(enumerate(pagerank_scores, start=1), key=lambda x: -x[1])[:5]\n",
        "        bottom_5 = sorted(enumerate(pagerank_scores, start=1), key=lambda x: x[1])[:5]\n",
        "\n",
        "        print(\"Top 5 nodes (PageRank score, id):\")\n",
        "        print(top_5)\n",
        "\n",
        "        print(\"\\nBottom 5 nodes (PageRank score, id):\")\n",
        "        print(bottom_5)\n",
        "\n",
        "        return top_5, bottom_5\n",
        "\n",
        "if __name__ == \"__main__\":\n",
        "    solver = PageRankSolver(filepath)\n",
        "    solver.eval()\n"
      ]
    }
  ]
}