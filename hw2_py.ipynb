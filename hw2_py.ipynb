{
  "nbformat": 4,
  "nbformat_minor": 0,
  "metadata": {
    "colab": {
      "provenance": [],
      "authorship_tag": "ABX9TyOVCOj/LwLFKE3C7mE5rYEB",
      "include_colab_link": true
    },
    "kernelspec": {
      "name": "python3",
      "display_name": "Python 3"
    },
    "language_info": {
      "name": "python"
    }
  },
  "cells": [
    {
      "cell_type": "markdown",
      "metadata": {
        "id": "view-in-github",
        "colab_type": "text"
      },
      "source": [
        "<a href=\"https://colab.research.google.com/github/paudelrc/PUS2024/blob/main/hw2_py.ipynb\" target=\"_parent\"><img src=\"https://colab.research.google.com/assets/colab-badge.svg\" alt=\"Open In Colab\"/></a>"
      ]
    },
    {
      "cell_type": "code",
      "execution_count": 39,
      "metadata": {
        "id": "jsbktj4C1Wkd"
      },
      "outputs": [],
      "source": [
        "import pandas as pd\n"
      ]
    },
    {
      "cell_type": "code",
      "source": [
        "import matplotlib.pyplot as plt"
      ],
      "metadata": {
        "id": "xW1GVI-u6nBA"
      },
      "execution_count": 40,
      "outputs": []
    },
    {
      "cell_type": "code",
      "source": [
        "#Read the file\n",
        "pparks = pd.read_csv('http://data-phl.opendata.arcgis.com/datasets/d52445160ab14380a673e5849203eb64_0.csv')"
      ],
      "metadata": {
        "id": "7iNu6vlu1gsQ"
      },
      "execution_count": 41,
      "outputs": []
    },
    {
      "cell_type": "code",
      "source": [
        "#show the column names in the dataframe\n",
        "print(pparks.columns)\n"
      ],
      "metadata": {
        "colab": {
          "base_uri": "https://localhost:8080/"
        },
        "id": "Hx97Mu3E1sUz",
        "outputId": "4edd33f9-bd74-491c-e6be-942637ed655e"
      },
      "execution_count": 42,
      "outputs": [
        {
          "output_type": "stream",
          "name": "stdout",
          "text": [
            "Index(['OBJECTID', 'PUBLIC_NAME', 'PARENT_NAME', 'NESTED', 'OFFICIAL_NAME',\n",
            "       'LABEL', 'ALIAS', 'DPP_ASSET_ID', 'ADDRESS_911', 'ZIP_CODE',\n",
            "       'ADDRESS_BRT', 'ALIAS_ADDRESS', 'ACREAGE', 'PROPERTY_CLASSIFICATION',\n",
            "       'PPR_USE', 'PPR_PROG_DISTRICT', 'PPR_OPS_DISTRICT', 'COUNCIL_DISTRICT',\n",
            "       'POLICE_DISTRICT', 'CITY_SCALE_MAPS', 'LOCAL_SCALE_MAPS',\n",
            "       'PROGRAM_SITES', 'COMMENTS', 'Shape__Area', 'Shape__Length'],\n",
            "      dtype='object')\n"
          ]
        }
      ]
    },
    {
      "cell_type": "code",
      "source": [
        "#show the begining of the dataframe (the first 5 rows)\n",
        "print(pparks.head())"
      ],
      "metadata": {
        "colab": {
          "base_uri": "https://localhost:8080/"
        },
        "id": "-JVKf4oH10hi",
        "outputId": "003826da-c4a8-4f42-b987-e80d7da32a50"
      },
      "execution_count": 43,
      "outputs": [
        {
          "output_type": "stream",
          "name": "stdout",
          "text": [
            "   OBJECTID                                     PUBLIC_NAME  \\\n",
            "0         1  William H (Billy) Markward Memorial Playground   \n",
            "1         2                                Schuylkill Banks   \n",
            "2         3                           Schuylkill River Park   \n",
            "3         4                           Frankford Boat Launch   \n",
            "4         5                            Robert A Borski Park   \n",
            "\n",
            "             PARENT_NAME NESTED  \\\n",
            "0  Schuylkill River Park      Y   \n",
            "1       Schuylkill Banks      N   \n",
            "2  Schuylkill River Park      N   \n",
            "3  Frankford Boat Launch      N   \n",
            "4   Robert A Borski Park      N   \n",
            "\n",
            "                                     OFFICIAL_NAME                  LABEL  \\\n",
            "0  William H. (Billy) Markward Memorial Playground               Markward   \n",
            "1                                              NaN       Schuylkill Banks   \n",
            "2                                              NaN  Schuylkill River Park   \n",
            "3                            Frankford Boat Launch       Frankford Launch   \n",
            "4                            Robert A. Borski Park                 Borski   \n",
            "\n",
            "                                               ALIAS  DPP_ASSET_ID  \\\n",
            "0                      Joseph O'Connor Memorial Pool          1903   \n",
            "1                                                NaN          2794   \n",
            "2                                                NaN          2992   \n",
            "3       PA Fish & Boat;Frankford Arsenal Boat Launch          3090   \n",
            "4  Orthodox Street Parcel; Bridesburg Riverfront ...          3091   \n",
            "\n",
            "        ADDRESS_911  ZIP_CODE  ... PPR_PROG_DISTRICT PPR_OPS_DISTRICT  \\\n",
            "0    400 S TANEY ST     19146  ...                11              5;7   \n",
            "1  2425 CHESTNUT ST     19103  ...              9;11              5;7   \n",
            "2    400 S TANEY ST     19146  ...                11             5, 7   \n",
            "3    5625 TACONY ST     19137  ...                 6                2   \n",
            "4  3101 ORTHODOX ST     19137  ...                 6                2   \n",
            "\n",
            "   COUNCIL_DISTRICT POLICE_DISTRICT CITY_SCALE_MAPS LOCAL_SCALE_MAPS  \\\n",
            "0                 2            9;17               Y                Y   \n",
            "1               2;5            9;17               Y                Y   \n",
            "2                 2               9               Y                Y   \n",
            "3                 6              15               Y                Y   \n",
            "4                 6              15               Y                Y   \n",
            "\n",
            "  PROGRAM_SITES                                           COMMENTS  \\\n",
            "0             Y           Markward site includes the O'Connor Pool   \n",
            "1             N    Bill 160113 (4/14/16) -South of South St Bridge   \n",
            "2             N                                                NaN   \n",
            "3             N                                                NaN   \n",
            "4             N  Officially acquired from PAID in 10/2019. Doc ...   \n",
            "\n",
            "     Shape__Area Shape__Length  \n",
            "0   25871.441406   1094.402639  \n",
            "1  101477.171875   9300.670275  \n",
            "2   27216.906250    799.048354  \n",
            "3   78513.835938   1585.359716  \n",
            "4   72921.257812   1304.880668  \n",
            "\n",
            "[5 rows x 25 columns]\n"
          ]
        }
      ]
    },
    {
      "cell_type": "code",
      "source": [
        "#show the end of the dataframe(the last 5 rows)\n",
        "print(pparks.tail())"
      ],
      "metadata": {
        "colab": {
          "base_uri": "https://localhost:8080/"
        },
        "id": "VV1t6BQO1_tc",
        "outputId": "7f99d0ae-78ea-486a-94b9-1412370d2ffc"
      },
      "execution_count": 44,
      "outputs": [
        {
          "output_type": "stream",
          "name": "stdout",
          "text": [
            "     OBJECTID                          PUBLIC_NAME              PARENT_NAME  \\\n",
            "502       503                        Fernhill Park            Fernhill Park   \n",
            "503       504        School District Area (Gorgas)        Susan Gorgas Park   \n",
            "504       505                    Susan Gorgas Park        Susan Gorgas Park   \n",
            "505       506  Mann Center for the Performing Arts      West Fairmount Park   \n",
            "506       507              45th and Sansom Tot Lot  45th and Sansom Tot Lot   \n",
            "\n",
            "    NESTED                            OFFICIAL_NAME                     LABEL  \\\n",
            "502      N                                      NaN                  Fernhill   \n",
            "503      Y                                      NaN  Gorgas (School District)   \n",
            "504      Y                        Susan Gorgas Park                    Gorgas   \n",
            "505      Y  The Mann Center for the Performing Arts               Mann Center   \n",
            "506      N                                      NaN           45th and Sansom   \n",
            "\n",
            "                                    ALIAS  DPP_ASSET_ID  \\\n",
            "502                                                 833   \n",
            "503                                   NaN             0   \n",
            "504                                   NaN           803   \n",
            "505  The Mann Center;Robin Hood Dell West          3634   \n",
            "506                          Chicken Park           266   \n",
            "\n",
            "                     ADDRESS_911  ZIP_CODE  ... PPR_PROG_DISTRICT  \\\n",
            "502               4600 MORRIS ST     19144  ...                 4   \n",
            "503                          NaN     19128  ...                 3   \n",
            "504               6424 RIDGE AVE     19128  ...                 3   \n",
            "505  5038 AVENUE OF THE REPUBLIC     19131  ...                 7   \n",
            "506               4501 SANSOM ST     19139  ...                10   \n",
            "\n",
            "    PPR_OPS_DISTRICT  COUNCIL_DISTRICT POLICE_DISTRICT CITY_SCALE_MAPS  \\\n",
            "502                4                 8              39               Y   \n",
            "503                4                 4               5               N   \n",
            "504                4                 4               5               Y   \n",
            "505                5                 4              19               N   \n",
            "506                8                 3              18               Y   \n",
            "\n",
            "    LOCAL_SCALE_MAPS PROGRAM_SITES  \\\n",
            "502                Y             N   \n",
            "503                N             N   \n",
            "504                Y             N   \n",
            "505                Y             N   \n",
            "506                Y             N   \n",
            "\n",
            "                                           COMMENTS    Shape__Area  \\\n",
            "502                                             NaN  294423.921875   \n",
            "503  1927 Transferred to SD to manage and maintain.   58382.015625   \n",
            "504                                             NaN   87612.011719   \n",
            "505                                             NaN  114842.847656   \n",
            "506                                             NaN     901.511719   \n",
            "\n",
            "    Shape__Length  \n",
            "502   4327.841898  \n",
            "503    986.309218  \n",
            "504   1246.794516  \n",
            "505   1626.112875  \n",
            "506    130.555215  \n",
            "\n",
            "[5 rows x 25 columns]\n"
          ]
        }
      ]
    },
    {
      "cell_type": "code",
      "source": [
        "#Measure the mean and median of the 'ACREAGE' column and compare them\n",
        "meanps=pparks['ACREAGE'].mean()\n",
        "medianps=pparks['ACREAGE'].median()\n",
        "print(f\"Mean of park sizes (ACREAGE): {meanps}\")\n",
        "print(f\"Median of park sizes (ACREAGE): {medianps}\")\n"
      ],
      "metadata": {
        "colab": {
          "base_uri": "https://localhost:8080/"
        },
        "id": "ocmugJ1p2K70",
        "outputId": "ebbed0f1-8238-4fcc-9552-6bc5c14a6408"
      },
      "execution_count": 45,
      "outputs": [
        {
          "output_type": "stream",
          "name": "stdout",
          "text": [
            "Mean of park sizes (ACREAGE): 20.00092127211045\n",
            "Median of park sizes (ACREAGE): 3.60078362\n"
          ]
        }
      ]
    },
    {
      "cell_type": "code",
      "source": [
        "#Visualize a histogram of the park sizes using the 'ACREAGE' column.\n",
        "#Choose an appropriate number of bins and overplot the mean and median of the distribution\n",
        "ax=pparks[\"ACREAGE\"].hist(bins=30, edgecolor='black',alpha=0.7)\n"
      ],
      "metadata": {
        "colab": {
          "base_uri": "https://localhost:8080/",
          "height": 430
        },
        "id": "Mp__Rli922v8",
        "outputId": "7156ac1d-0f38-410f-b5fe-980e70e5d17e"
      },
      "execution_count": 11,
      "outputs": [
        {
          "output_type": "display_data",
          "data": {
            "text/plain": [
              "<Figure size 640x480 with 1 Axes>"
            ],
            "image/png": "[encoded data removed]"
          },
          "metadata": {}
        }
      ]
    },
    {
      "cell_type": "code",
      "source": [
        "#plot the mean and median as vertical lines on the histogram\n",
        "ax.axvline(meanps, color='blue', linestyle='dashed', linewidth=2, label=f'Mean:{meanps:.2f}')\n",
        "ax.axvline(medianps, color='red', linestyle='dashed', linewidth=2, label=f'Median: {medianps:.2f}')\n"
      ],
      "metadata": {
        "colab": {
          "base_uri": "https://localhost:8080/"
        },
        "id": "cYBtrFM93Ssy",
        "outputId": "60e2de8b-56ea-439d-871a-33585b1a84ec"
      },
      "execution_count": 46,
      "outputs": [
        {
          "output_type": "execute_result",
          "data": {
            "text/plain": [
              "<matplotlib.lines.Line2D at 0x7cac1b314af0>"
            ]
          },
          "metadata": {},
          "execution_count": 46
        }
      ]
    },
    {
      "cell_type": "code",
      "source": [
        "# Plot the mean and median as vertical lines on the histogram\n",
        "mean_line = ax.axvline(meanps, color='blue', linestyle='dashed', linewidth=2, label=f'Mean: {meanps:.2f}')\n",
        "median_line = ax.axvline(medianps, color='red', linestyle='dashed', linewidth=2, label=f'Median: {medianps:.2f}')\n"
      ],
      "metadata": {
        "id": "LXsXTAczCCWE"
      },
      "execution_count": 51,
      "outputs": []
    },
    {
      "cell_type": "code",
      "source": [
        "# Add labels and legend\n",
        "ax.set_xlabel('Park Size (ACREAGE)')\n",
        "ax.set_ylabel('Frequency')\n",
        "ax.set_title('Histogram of Park Sizes in Philadelphia')\n"
      ],
      "metadata": {
        "colab": {
          "base_uri": "https://localhost:8080/"
        },
        "id": "ZNhdrhdH382B",
        "outputId": "53a8207b-f1aa-4c06-d2f5-53b270f0b5d7"
      },
      "execution_count": 30,
      "outputs": [
        {
          "output_type": "execute_result",
          "data": {
            "text/plain": [
              "Text(0.5, 1.0, 'Histogram of Park Sizes in Philadelphia')"
            ]
          },
          "metadata": {},
          "execution_count": 30
        }
      ]
    },
    {
      "cell_type": "code",
      "source": [
        "ax.legend()"
      ],
      "metadata": {
        "colab": {
          "base_uri": "https://localhost:8080/"
        },
        "id": "MWaNsnEi7meS",
        "outputId": "5ab215e8-7b1f-49bc-d260-89b52f42c556"
      },
      "execution_count": 53,
      "outputs": [
        {
          "output_type": "execute_result",
          "data": {
            "text/plain": [
              "<matplotlib.legend.Legend at 0x7cac1b1e4eb0>"
            ]
          },
          "metadata": {},
          "execution_count": 53
        }
      ]
    },
    {
      "cell_type": "code",
      "source": [
        "#Show the plot\n",
        "plt.show()"
      ],
      "metadata": {
        "id": "e4hIHtNa4R9r"
      },
      "execution_count": 54,
      "outputs": []
    },
    {
      "cell_type": "code",
      "source": [
        "#Calculate the standard deviation of the 'ACREAGE' column\n",
        "stdps=pparks['ACREAGE'].std()\n",
        "print(f\"Standard deviation of park sizes: {stdps}\")"
      ],
      "metadata": {
        "colab": {
          "base_uri": "https://localhost:8080/"
        },
        "id": "orJN6Vtt4WTD",
        "outputId": "6cfa7234-fa0e-46b5-fc89-9d0afb0ae946"
      },
      "execution_count": 52,
      "outputs": [
        {
          "output_type": "stream",
          "name": "stdout",
          "text": [
            "Standard deviation of park sizes: 111.8438910224896\n"
          ]
        }
      ]
    },
    {
      "cell_type": "code",
      "source": [
        "#Create a new figure, filter parks with ACREAGE>mean, and plot a histogram for those\n",
        "ax=pparks[pparks['ACREAGE']>meanps][\"ACREAGE\"].hist(bins=30, edgecolor='black', alpha=0.7)\n"
      ],
      "metadata": {
        "colab": {
          "base_uri": "https://localhost:8080/",
          "height": 430
        },
        "id": "L7hs1boM4o1V",
        "outputId": "2cd81f2c-b4c5-41d5-f8ec-dc6d9ee4fef9"
      },
      "execution_count": 20,
      "outputs": [
        {
          "output_type": "display_data",
          "data": {
            "text/plain": [
              "<Figure size 640x480 with 1 Axes>"
            ],
            "image/png": "[encoded data removed]"
          },
          "metadata": {}
        }
      ]
    },
    {
      "cell_type": "code",
      "source": [
        "#Add labels and title\n",
        "ax.set_xlabel('Park Size (ACREAGE)>Mean')\n",
        "ax.set_ylabel('Frequency')\n",
        "ax.set_title('Histogram of Parks Larger Than the Mean Size')\n",
        "plot.show()"
      ],
      "metadata": {
        "colab": {
          "base_uri": "https://localhost:8080/",
          "height": 176
        },
        "id": "D5rTfHpp5ER1",
        "outputId": "3d321596-c146-4f81-b271-5d6cd887dd6f"
      },
      "execution_count": 19,
      "outputs": [
        {
          "output_type": "error",
          "ename": "NameError",
          "evalue": "name 'plot' is not defined",
          "traceback": [
            "\u001b[0;31m---------------------------------------------------------------------------\u001b[0m",
            "\u001b[0;31mNameError\u001b[0m                                 Traceback (most recent call last)",
            "\u001b[0;32m<ipython-input-19-32b0ceda80e7>\u001b[0m in \u001b[0;36m<cell line: 5>\u001b[0;34m()\u001b[0m\n\u001b[1;32m      3\u001b[0m \u001b[0max\u001b[0m\u001b[0;34m.\u001b[0m\u001b[0mset_ylabel\u001b[0m\u001b[0;34m(\u001b[0m\u001b[0;34m'Frequency'\u001b[0m\u001b[0;34m)\u001b[0m\u001b[0;34m\u001b[0m\u001b[0;34m\u001b[0m\u001b[0m\n\u001b[1;32m      4\u001b[0m \u001b[0max\u001b[0m\u001b[0;34m.\u001b[0m\u001b[0mset_title\u001b[0m\u001b[0;34m(\u001b[0m\u001b[0;34m'Histogram of Parks Larger Than the Mean Size'\u001b[0m\u001b[0;34m)\u001b[0m\u001b[0;34m\u001b[0m\u001b[0;34m\u001b[0m\u001b[0m\n\u001b[0;32m----> 5\u001b[0;31m \u001b[0mplot\u001b[0m\u001b[0;34m.\u001b[0m\u001b[0mshow\u001b[0m\u001b[0;34m(\u001b[0m\u001b[0;34m)\u001b[0m\u001b[0;34m\u001b[0m\u001b[0;34m\u001b[0m\u001b[0m\n\u001b[0m",
            "\u001b[0;31mNameError\u001b[0m: name 'plot' is not defined"
          ]
        }
      ]
    },
    {
      "cell_type": "code",
      "source": [
        "#Group the parks by their location\n",
        "grouped=pparks.groupby('DISTRICT')['ACREAGE'].mean()\n"
      ],
      "metadata": {
        "colab": {
          "base_uri": "https://localhost:8080/",
          "height": 304
        },
        "id": "7gHITa1D5bJq",
        "outputId": "847396aa-f6f4-4557-fe01-03a9fbb85559"
      },
      "execution_count": 18,
      "outputs": [
        {
          "output_type": "error",
          "ename": "KeyError",
          "evalue": "'DISTRICT'",
          "traceback": [
            "\u001b[0;31m---------------------------------------------------------------------------\u001b[0m",
            "\u001b[0;31mKeyError\u001b[0m                                  Traceback (most recent call last)",
            "\u001b[0;32m<ipython-input-18-8bfb07ec9ef7>\u001b[0m in \u001b[0;36m<cell line: 2>\u001b[0;34m()\u001b[0m\n\u001b[1;32m      1\u001b[0m \u001b[0;31m#Group the parks by their location\u001b[0m\u001b[0;34m\u001b[0m\u001b[0;34m\u001b[0m\u001b[0m\n\u001b[0;32m----> 2\u001b[0;31m \u001b[0mgrouped\u001b[0m\u001b[0;34m=\u001b[0m\u001b[0mpparks\u001b[0m\u001b[0;34m.\u001b[0m\u001b[0mgroupby\u001b[0m\u001b[0;34m(\u001b[0m\u001b[0;34m'DISTRICT'\u001b[0m\u001b[0;34m)\u001b[0m\u001b[0;34m[\u001b[0m\u001b[0;34m'ACREAGE'\u001b[0m\u001b[0;34m]\u001b[0m\u001b[0;34m.\u001b[0m\u001b[0mmean\u001b[0m\u001b[0;34m(\u001b[0m\u001b[0;34m)\u001b[0m\u001b[0;34m\u001b[0m\u001b[0;34m\u001b[0m\u001b[0m\n\u001b[0m",
            "\u001b[0;32m/usr/local/lib/python3.10/dist-packages/pandas/core/frame.py\u001b[0m in \u001b[0;36mgroupby\u001b[0;34m(self, by, axis, level, as_index, sort, group_keys, observed, dropna)\u001b[0m\n\u001b[1;32m   8867\u001b[0m             \u001b[0;32mraise\u001b[0m \u001b[0mTypeError\u001b[0m\u001b[0;34m(\u001b[0m\u001b[0;34m\"You have to supply one of 'by' and 'level'\"\u001b[0m\u001b[0;34m)\u001b[0m\u001b[0;34m\u001b[0m\u001b[0;34m\u001b[0m\u001b[0m\n\u001b[1;32m   8868\u001b[0m \u001b[0;34m\u001b[0m\u001b[0m\n\u001b[0;32m-> 8869\u001b[0;31m         return DataFrameGroupBy(\n\u001b[0m\u001b[1;32m   8870\u001b[0m             \u001b[0mobj\u001b[0m\u001b[0;34m=\u001b[0m\u001b[0mself\u001b[0m\u001b[0;34m,\u001b[0m\u001b[0;34m\u001b[0m\u001b[0;34m\u001b[0m\u001b[0m\n\u001b[1;32m   8871\u001b[0m             \u001b[0mkeys\u001b[0m\u001b[0;34m=\u001b[0m\u001b[0mby\u001b[0m\u001b[0;34m,\u001b[0m\u001b[0;34m\u001b[0m\u001b[0;34m\u001b[0m\u001b[0m\n",
            "\u001b[0;32m/usr/local/lib/python3.10/dist-packages/pandas/core/groupby/groupby.py\u001b[0m in \u001b[0;36m__init__\u001b[0;34m(self, obj, keys, axis, level, grouper, exclusions, selection, as_index, sort, group_keys, observed, dropna)\u001b[0m\n\u001b[1;32m   1276\u001b[0m \u001b[0;34m\u001b[0m\u001b[0m\n\u001b[1;32m   1277\u001b[0m         \u001b[0;32mif\u001b[0m \u001b[0mgrouper\u001b[0m \u001b[0;32mis\u001b[0m \u001b[0;32mNone\u001b[0m\u001b[0;34m:\u001b[0m\u001b[0;34m\u001b[0m\u001b[0;34m\u001b[0m\u001b[0m\n\u001b[0;32m-> 1278\u001b[0;31m             grouper, exclusions, obj = get_grouper(\n\u001b[0m\u001b[1;32m   1279\u001b[0m                 \u001b[0mobj\u001b[0m\u001b[0;34m,\u001b[0m\u001b[0;34m\u001b[0m\u001b[0;34m\u001b[0m\u001b[0m\n\u001b[1;32m   1280\u001b[0m                 \u001b[0mkeys\u001b[0m\u001b[0;34m,\u001b[0m\u001b[0;34m\u001b[0m\u001b[0;34m\u001b[0m\u001b[0m\n",
            "\u001b[0;32m/usr/local/lib/python3.10/dist-packages/pandas/core/groupby/grouper.py\u001b[0m in \u001b[0;36mget_grouper\u001b[0;34m(obj, key, axis, level, sort, observed, validate, dropna)\u001b[0m\n\u001b[1;32m   1007\u001b[0m                 \u001b[0min_axis\u001b[0m\u001b[0;34m,\u001b[0m \u001b[0mlevel\u001b[0m\u001b[0;34m,\u001b[0m \u001b[0mgpr\u001b[0m \u001b[0;34m=\u001b[0m \u001b[0;32mFalse\u001b[0m\u001b[0;34m,\u001b[0m \u001b[0mgpr\u001b[0m\u001b[0;34m,\u001b[0m \u001b[0;32mNone\u001b[0m\u001b[0;34m\u001b[0m\u001b[0;34m\u001b[0m\u001b[0m\n\u001b[1;32m   1008\u001b[0m             \u001b[0;32melse\u001b[0m\u001b[0;34m:\u001b[0m\u001b[0;34m\u001b[0m\u001b[0;34m\u001b[0m\u001b[0m\n\u001b[0;32m-> 1009\u001b[0;31m                 \u001b[0;32mraise\u001b[0m \u001b[0mKeyError\u001b[0m\u001b[0;34m(\u001b[0m\u001b[0mgpr\u001b[0m\u001b[0;34m)\u001b[0m\u001b[0;34m\u001b[0m\u001b[0;34m\u001b[0m\u001b[0m\n\u001b[0m\u001b[1;32m   1010\u001b[0m         \u001b[0;32melif\u001b[0m \u001b[0misinstance\u001b[0m\u001b[0;34m(\u001b[0m\u001b[0mgpr\u001b[0m\u001b[0;34m,\u001b[0m \u001b[0mGrouper\u001b[0m\u001b[0;34m)\u001b[0m \u001b[0;32mand\u001b[0m \u001b[0mgpr\u001b[0m\u001b[0;34m.\u001b[0m\u001b[0mkey\u001b[0m \u001b[0;32mis\u001b[0m \u001b[0;32mnot\u001b[0m \u001b[0;32mNone\u001b[0m\u001b[0;34m:\u001b[0m\u001b[0;34m\u001b[0m\u001b[0;34m\u001b[0m\u001b[0m\n\u001b[1;32m   1011\u001b[0m             \u001b[0;31m# Add key to exclusions\u001b[0m\u001b[0;34m\u001b[0m\u001b[0;34m\u001b[0m\u001b[0m\n",
            "\u001b[0;31mKeyError\u001b[0m: 'DISTRICT'"
          ]
        }
      ]
    },
    {
      "cell_type": "code",
      "source": [
        "#Display the results of the grouping\n",
        "print(grouped)"
      ],
      "metadata": {
        "colab": {
          "base_uri": "https://localhost:8080/",
          "height": 158
        },
        "id": "NLdGUwKs5q8L",
        "outputId": "a59ad54b-e531-4821-8ec6-4ab052c57f36"
      },
      "execution_count": 17,
      "outputs": [
        {
          "output_type": "error",
          "ename": "NameError",
          "evalue": "name 'grouped' is not defined",
          "traceback": [
            "\u001b[0;31m---------------------------------------------------------------------------\u001b[0m",
            "\u001b[0;31mNameError\u001b[0m                                 Traceback (most recent call last)",
            "\u001b[0;32m<ipython-input-17-f36a90923eb2>\u001b[0m in \u001b[0;36m<cell line: 2>\u001b[0;34m()\u001b[0m\n\u001b[1;32m      1\u001b[0m \u001b[0;31m#Display the results of the grouping\u001b[0m\u001b[0;34m\u001b[0m\u001b[0;34m\u001b[0m\u001b[0m\n\u001b[0;32m----> 2\u001b[0;31m \u001b[0mprint\u001b[0m\u001b[0;34m(\u001b[0m\u001b[0mgrouped\u001b[0m\u001b[0;34m)\u001b[0m\u001b[0;34m\u001b[0m\u001b[0;34m\u001b[0m\u001b[0m\n\u001b[0m",
            "\u001b[0;31mNameError\u001b[0m: name 'grouped' is not defined"
          ]
        }
      ]
    }
  ]
}